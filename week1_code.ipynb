{
 "cells": [
  {
   "cell_type": "raw",
   "id": "cf7edde7",
   "metadata": {},
   "source": [
    "#adapted from Python Crash Course, pgs 20-31)\n",
    "\n",
    "message = \"Han Mitakuyapi!\" #please be free to use your gender specific salutations\n",
    "print(message)"
   ]
  },
  {
   "cell_type": "code",
   "execution_count": 3,
   "id": "20ba228b",
   "metadata": {},
   "outputs": [
    {
     "name": "stdout",
     "output_type": "stream",
     "text": [
      "Han Mitakuyapi\n",
      "Lila Waste!\n"
     ]
    }
   ],
   "source": [
    "#variables are ways to name values in python \n",
    "#think boxes that we can store values in\n",
    "#they can be anything! (within python best practices)\n",
    "\n",
    "message = \"Han Mitakuyapi\"\n",
    "print(message)\n",
    "\n",
    "message = \"Lila Waste!\"\n",
    "print(message)"
   ]
  },
  {
   "cell_type": "code",
   "execution_count": 4,
   "id": "799d080c",
   "metadata": {},
   "outputs": [],
   "source": [
    "#Variables can only contain letters, numbers, and underscores. never start with a number\n",
    "#spaces are not allowed but underscores can be used to seperate words.\n",
    "#avoid using python function names as variable names. never use print (why not?)\n",
    "#names should be short and sweet (zen of python)\n",
    "#be careful for lower case l and O (capital O) they look the same as 1 and 0 "
   ]
  },
  {
   "cell_type": "code",
   "execution_count": 5,
   "id": "95813f29",
   "metadata": {},
   "outputs": [
    {
     "name": "stdout",
     "output_type": "stream",
     "text": [
      "wicapi\n"
     ]
    }
   ],
   "source": [
    "#try it yourself\n",
    "#professors example\n",
    "\n",
    "star = \"wicapi\"\n",
    "print(star)"
   ]
  },
  {
   "cell_type": "code",
   "execution_count": 6,
   "id": "9a62540c",
   "metadata": {},
   "outputs": [
    {
     "data": {
      "text/plain": [
       "'na le string he nakun (this is also a string)'"
      ]
     },
     "execution_count": 6,
     "metadata": {},
     "output_type": "execute_result"
    }
   ],
   "source": [
    "#strings are a series of characters (see Intro to Python textbook, Section 1.3, pages 6-8)\n",
    "#anything inside quotes - doubles or singles (programmers lean towards single)\n",
    "\n",
    "\"Han. Le string heca (this is a string).\"\n",
    "'na le string he nakun (this is also a string)'\n",
    "\n",
    "#type one string with a print() function"
   ]
  },
  {
   "cell_type": "code",
   "execution_count": 9,
   "id": "54470dfd",
   "metadata": {},
   "outputs": [
    {
     "name": "stdout",
     "output_type": "stream",
     "text": [
      "Elisha Yellow Thunder\n"
     ]
    }
   ],
   "source": [
    "emaciyapi = \"elisha yellow thunder\"\n",
    "print(emaciyapi.title())\n",
    "\n",
    "#a method is an action that Python does on a piece of data. \n",
    "#the dot before title() tells Python to perform the action on \n",
    "##the variable eciyapi . Every method is followed by parenthesis\n"
   ]
  },
  {
   "cell_type": "code",
   "execution_count": 10,
   "id": "3be83c8f",
   "metadata": {},
   "outputs": [
    {
     "name": "stdout",
     "output_type": "stream",
     "text": [
      "ELISHA YELLOW THUNDER\n",
      "elisha yellow thunder\n"
     ]
    }
   ],
   "source": [
    "emaciyapi = \"Elisha Yellow Thunder\"\n",
    "print(emaciyapi.upper())\n",
    "print(emaciyapi.lower())"
   ]
  },
  {
   "cell_type": "code",
   "execution_count": null,
   "id": "2fc6a658",
   "metadata": {},
   "outputs": [],
   "source": [
    " "
   ]
  }
 ],
 "metadata": {
  "kernelspec": {
   "display_name": "Python 3 (ipykernel)",
   "language": "python",
   "name": "python3"
  },
  "language_info": {
   "codemirror_mode": {
    "name": "ipython",
    "version": 3
   },
   "file_extension": ".py",
   "mimetype": "text/x-python",
   "name": "python",
   "nbconvert_exporter": "python",
   "pygments_lexer": "ipython3",
   "version": "3.11.5"
  }
 },
 "nbformat": 4,
 "nbformat_minor": 5
}
