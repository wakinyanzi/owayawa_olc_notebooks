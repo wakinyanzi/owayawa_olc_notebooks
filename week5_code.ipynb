{
 "cells": [
  {
   "cell_type": "code",
   "execution_count": 1,
   "id": "f9240e15",
   "metadata": {},
   "outputs": [
    {
     "name": "stdout",
     "output_type": "stream",
     "text": [
      "Makpiya Luta\n"
     ]
    }
   ],
   "source": [
    "#dictionaries - (Python Crash Course pg.92)\n",
    "##is a collection of key-value pais. \n",
    "##key is connected to the value\n",
    "###key value can be anything, a list, another dictionary - we use {}\n",
    "\n",
    "itancan = {'Red Cloud', 'Sitting Bull', 'Crazy Horse'}\n",
    "\n",
    "#key-value pair is set of values associated with each other\n",
    "##every key is connected to its value by a colon, and individual keys are seperated by commas\n",
    "\n",
    "itancan = {'Red Cloud': 'Makpiya Luta'}\n",
    "\n",
    "#this dictionary contains one piece of infor about itancan-Lakota translation for Red Cloud\n",
    "##the string 'Red Cloud' is a key in this dictionary its value is 'Makpiya Luta'\n",
    "\n",
    "itancan = {'Red Cloud': 'Makpiya Luta'}\n",
    "print(itancan['Red Cloud'])\n",
    "\n",
    "#it should return the lakota translation"
   ]
  },
  {
   "cell_type": "code",
   "execution_count": 7,
   "id": "e129861d",
   "metadata": {},
   "outputs": [
    {
     "name": "stdout",
     "output_type": "stream",
     "text": [
      "Makpiya Luta is Oglala Lakota\n",
      "Tasunke Witko is Oglala Lakota\n"
     ]
    }
   ],
   "source": [
    "#in dictionaries we can have unlimited number of key-value pairs.\n",
    "\n",
    "itancan = {'Red Cloud': 'Makpiya Luta', 'Oyanke': 'Oglala'}\n",
    "oyanke = itancan['Oyanke']\n",
    "print(f\"Makpiya Luta is {oyanke} Lakota\")\n",
    "\n",
    "#practice with our own keys-value pairs\n",
    "##extra-credit - develop your own (at least 2)\n",
    "\n",
    "itancan = {'Crazy Horse': 'Tasunke Witko', 'Oyanke': 'Oglala'}\n",
    "oyanke = itancan['Oyanke']\n",
    "print(f\"Tasunke Witko is {oyanke} Lakota\")\n"
   ]
  },
  {
   "cell_type": "code",
   "execution_count": 1,
   "id": "be7fbb9a",
   "metadata": {},
   "outputs": [
    {
     "data": {
      "text/plain": [
       "True"
      ]
     },
     "execution_count": 1,
     "metadata": {},
     "output_type": "execute_result"
    }
   ],
   "source": [
    "#02/27/2024 Flow Control \n",
    "## FLow control statementrs can decide which python instructrions to execute under which conditions \n",
    "##Boolean operators two values: True or False\n",
    "\n",
    "spam = True \n",
    "spam\n"
   ]
  },
  {
   "cell_type": "code",
   "execution_count": 2,
   "id": "789276a9",
   "metadata": {},
   "outputs": [
    {
     "ename": "NameError",
     "evalue": "name 'true' is not defined",
     "output_type": "error",
     "traceback": [
      "\u001b[1;31m---------------------------------------------------------------------------\u001b[0m",
      "\u001b[1;31mNameError\u001b[0m                                 Traceback (most recent call last)",
      "Cell \u001b[1;32mIn[2], line 2\u001b[0m\n\u001b[0;32m      1\u001b[0m \u001b[38;5;66;03m#break the code - and type true\u001b[39;00m\n\u001b[1;32m----> 2\u001b[0m true\n",
      "\u001b[1;31mNameError\u001b[0m: name 'true' is not defined"
     ]
    }
   ],
   "source": [
    "#break the code - and type true\n",
    "true"
   ]
  },
  {
   "cell_type": "code",
   "execution_count": 3,
   "id": "5a4e0ebb",
   "metadata": {},
   "outputs": [
    {
     "ename": "SyntaxError",
     "evalue": "cannot assign to True (329183914.py, line 2)",
     "output_type": "error",
     "traceback": [
      "\u001b[1;36m  Cell \u001b[1;32mIn[3], line 2\u001b[1;36m\u001b[0m\n\u001b[1;33m    True = 2 + 2\u001b[0m\n\u001b[1;37m    ^\u001b[0m\n\u001b[1;31mSyntaxError\u001b[0m\u001b[1;31m:\u001b[0m cannot assign to True\n"
     ]
    }
   ],
   "source": [
    "#in order to make true defined \n",
    "True = 2 + 2"
   ]
  },
  {
   "cell_type": "code",
   "execution_count": 4,
   "id": "70c908a5",
   "metadata": {},
   "outputs": [
    {
     "data": {
      "text/plain": [
       "True"
      ]
     },
     "execution_count": 4,
     "metadata": {},
     "output_type": "execute_result"
    }
   ],
   "source": [
    "#Comparison Operators - relational operators - they compare teo values and evaluate down to a single Boolean value\n",
    "## == (2 equal signs) means equal to\n",
    "## != means not equal to\n",
    "## < less than\n",
    "## > greater than \n",
    "## <= less than or equal to\n",
    "## >= greater than or equal to\n",
    "\n",
    "42 == 42"
   ]
  },
  {
   "cell_type": "code",
   "execution_count": 5,
   "id": "362eeef5",
   "metadata": {},
   "outputs": [
    {
     "data": {
      "text/plain": [
       "False"
      ]
     },
     "execution_count": 5,
     "metadata": {},
     "output_type": "execute_result"
    }
   ],
   "source": [
    "42 == 99"
   ]
  },
  {
   "cell_type": "code",
   "execution_count": 6,
   "id": "f6987c3e",
   "metadata": {},
   "outputs": [
    {
     "data": {
      "text/plain": [
       "True"
      ]
     },
     "execution_count": 6,
     "metadata": {},
     "output_type": "execute_result"
    }
   ],
   "source": [
    "2 != 3"
   ]
  },
  {
   "cell_type": "code",
   "execution_count": 7,
   "id": "90388531",
   "metadata": {},
   "outputs": [
    {
     "data": {
      "text/plain": [
       "False"
      ]
     },
     "execution_count": 7,
     "metadata": {},
     "output_type": "execute_result"
    }
   ],
   "source": [
    "2 != 2"
   ]
  },
  {
   "cell_type": "code",
   "execution_count": 8,
   "id": "b72c5f6c",
   "metadata": {},
   "outputs": [
    {
     "data": {
      "text/plain": [
       "True"
      ]
     },
     "execution_count": 8,
     "metadata": {},
     "output_type": "execute_result"
    }
   ],
   "source": [
    "# lets see what these look like comparing string values \n",
    "'hello' == 'hello'"
   ]
  },
  {
   "cell_type": "code",
   "execution_count": 9,
   "id": "d954e9bf",
   "metadata": {},
   "outputs": [
    {
     "data": {
      "text/plain": [
       "False"
      ]
     },
     "execution_count": 9,
     "metadata": {},
     "output_type": "execute_result"
    }
   ],
   "source": [
    "'hello' == 'Hello'"
   ]
  },
  {
   "cell_type": "code",
   "execution_count": 10,
   "id": "25b8a843",
   "metadata": {},
   "outputs": [
    {
     "data": {
      "text/plain": [
       "True"
      ]
     },
     "execution_count": 10,
     "metadata": {},
     "output_type": "execute_result"
    }
   ],
   "source": [
    "#lets try comparing an integer and a floating-point value (decimal)\n",
    "42 == 42.0"
   ]
  },
  {
   "cell_type": "code",
   "execution_count": 11,
   "id": "492fd49f",
   "metadata": {},
   "outputs": [
    {
     "data": {
      "text/plain": [
       "True"
      ]
     },
     "execution_count": 11,
     "metadata": {},
     "output_type": "execute_result"
    }
   ],
   "source": [
    "42 < 100"
   ]
  },
  {
   "cell_type": "code",
   "execution_count": 12,
   "id": "070cd621",
   "metadata": {},
   "outputs": [
    {
     "data": {
      "text/plain": [
       "False"
      ]
     },
     "execution_count": 12,
     "metadata": {},
     "output_type": "execute_result"
    }
   ],
   "source": [
    "42 > 100"
   ]
  },
  {
   "cell_type": "code",
   "execution_count": 13,
   "id": "9449e4a0",
   "metadata": {},
   "outputs": [
    {
     "data": {
      "text/plain": [
       "True"
      ]
     },
     "execution_count": 13,
     "metadata": {},
     "output_type": "execute_result"
    }
   ],
   "source": [
    "eggCount = 42\n",
    "eggCount <= 42"
   ]
  },
  {
   "cell_type": "code",
   "execution_count": 14,
   "id": "ec5cea0a",
   "metadata": {},
   "outputs": [
    {
     "data": {
      "text/plain": [
       "True"
      ]
     },
     "execution_count": 14,
     "metadata": {},
     "output_type": "execute_result"
    }
   ],
   "source": [
    "myAge = 29\n",
    "myAge >= 10\n"
   ]
  },
  {
   "cell_type": "code",
   "execution_count": 15,
   "id": "fac76912",
   "metadata": {},
   "outputs": [
    {
     "data": {
      "text/plain": [
       "True"
      ]
     },
     "execution_count": 15,
     "metadata": {},
     "output_type": "execute_result"
    }
   ],
   "source": [
    "#tthe difference between == and the = \n",
    "## the == operator that means equal to - comparing two values\n",
    "## where the single = puts the value on the right of the variable \n",
    "\n",
    "#Mix boolean and comparison operators \n",
    "(4 < 5) and (5 < 6)"
   ]
  },
  {
   "cell_type": "code",
   "execution_count": 16,
   "id": "149535bf",
   "metadata": {},
   "outputs": [
    {
     "data": {
      "text/plain": [
       "False"
      ]
     },
     "execution_count": 16,
     "metadata": {},
     "output_type": "execute_result"
    }
   ],
   "source": [
    "(4 < 5) and (9 < 6)"
   ]
  },
  {
   "cell_type": "code",
   "execution_count": 17,
   "id": "20136d66",
   "metadata": {},
   "outputs": [
    {
     "data": {
      "text/plain": [
       "True"
      ]
     },
     "execution_count": 17,
     "metadata": {},
     "output_type": "execute_result"
    }
   ],
   "source": [
    "(1 == 2) or (2 == 2)"
   ]
  },
  {
   "cell_type": "code",
   "execution_count": 18,
   "id": "12345653",
   "metadata": {},
   "outputs": [
    {
     "data": {
      "text/plain": [
       "True"
      ]
     },
     "execution_count": 18,
     "metadata": {},
     "output_type": "execute_result"
    }
   ],
   "source": [
    "(4 < 5) and (5 < 6)\n",
    "(4 < 5) and (9 < 6)\n",
    "(1 == 2) or (2 == 2)\n",
    "\n",
    "#Boolean operators have an order of operations. After any math and comparison operators evaluate, Python evaluates the not, then and, then the or\n",
    "\n"
   ]
  },
  {
   "cell_type": "code",
   "execution_count": 19,
   "id": "346ec5e3",
   "metadata": {},
   "outputs": [
    {
     "name": "stdout",
     "output_type": "stream",
     "text": [
      "Han.Elisha\n",
      "Access Granted\n"
     ]
    }
   ],
   "source": [
    "#Elements of Flow Control \n",
    "## flow control statements start with a part called the condition and are always follwed by a block code called the clause\n",
    "\n",
    "#Conditions - Boolean operators that we ghave worked with so far could be considered conditions - its just specific name in the\n",
    "##context of flow control. \n",
    "#Conditions always evaluate down to a Boolean value, True or False. A flow control statement decides what to do based on whether\n",
    "##its condition is True or False. Almost every flow control statement uses a conditions\n",
    "\n",
    "#Blocks of Code - lines of code grouped together\n",
    "#There are three rules for blocks\n",
    "## Blocks begin when the indentation increases \n",
    "## Blocks can contain other blocks \n",
    "## Blocks end when the indentation decreases to zero or to acontain blocks indentation \n",
    "\n",
    "emaciyapi = 'Elisha'\n",
    "password = 'sunka'\n",
    "if emaciyapi == 'Elisha':\n",
    "    print('Han.Elisha')\n",
    "    if password == 'sunka':\n",
    "        print('Access Granted')\n",
    "    else:\n",
    "        print('Wrong Password')\n",
    "    "
   ]
  },
  {
   "cell_type": "code",
   "execution_count": 21,
   "id": "62ec462e",
   "metadata": {},
   "outputs": [
    {
     "name": "stdout",
     "output_type": "stream",
     "text": [
      "Han. Elisha\n"
     ]
    }
   ],
   "source": [
    "#the most common control flow statement is the if statemtn. an if statement's clause will execute if the statements condition is True\n",
    "##In Python, and if statement consists of \n",
    "## The if keyword \n",
    "## A condition (that is an expression that evaluates to True or False\n",
    "## a colon\n",
    "## Starting on the next line, and indented block of code (called the if clause)\n",
    "\n",
    "if emaciyapi == 'Elisha':\n",
    "    print('Han. Elisha')\n"
   ]
  },
  {
   "cell_type": "code",
   "execution_count": 23,
   "id": "adfb0e9c",
   "metadata": {},
   "outputs": [
    {
     "name": "stdout",
     "output_type": "stream",
     "text": [
      "Han. Elisha\n"
     ]
    }
   ],
   "source": [
    "# else statements is executed only when they if statement is False. \n",
    "# and else statement doesnt have to have a condition\n",
    "## else statements always contain \n",
    "## the else key word\n",
    "## a colon\n",
    "## starting on the next line, an indented block of code (called the else clause)\n",
    "\n",
    "if emaciyapi == 'Elisha':\n",
    "    print('Han. Elisha')\n",
    "else:\n",
    "    print('Han. Stranger.')"
   ]
  },
  {
   "cell_type": "code",
   "execution_count": 25,
   "id": "9260520d",
   "metadata": {},
   "outputs": [
    {
     "name": "stdout",
     "output_type": "stream",
     "text": [
      "Han. Elisha\n"
     ]
    }
   ],
   "source": [
    "#elif (else if statement). \n",
    "## The else if statement always follows an if or another elif statement. It provides another condition that is checked only if \n",
    "##all previous conditions were False\n",
    "## elif statement always consists of \n",
    "## an elif keyword\n",
    "## a condition (that is, an expression that evaluates to True or False)\n",
    "## starting on the next line, an indented block of code (called the elif clause)\n",
    "\n",
    "if emaciyapi == 'Elisha':\n",
    "    print('Han. Elisha')\n",
    "elif age < 12:\n",
    "    print('You are not Elisha, takoja.')"
   ]
  },
  {
   "cell_type": "code",
   "execution_count": 26,
   "id": "1fc13224",
   "metadata": {},
   "outputs": [
    {
     "name": "stdout",
     "output_type": "stream",
     "text": [
      "Han. Elisha\n"
     ]
    }
   ],
   "source": [
    "#testing the elif statement\n",
    "\n",
    "emaciyapi = 'Elisha'\n",
    "age = 3000\n",
    "if emaciyapi == 'Elisha':\n",
    "    print('Han. Elisha')\n",
    "elif age < 12:\n",
    "    print('You are not Elisha, takoja.')\n",
    "elif age > 2000:\n",
    "    print('Unlike you, Elisha us not an undead, immortal vampire')\n",
    "elif age > 100:\n",
    "    print('You are not Elisha, unci')\n",
    "    "
   ]
  },
  {
   "cell_type": "code",
   "execution_count": 27,
   "id": "6714e915",
   "metadata": {},
   "outputs": [],
   "source": [
    "#in this type of flow control structure would be \"if tthe first conditional is true, do this. Else, if the second condition is\n",
    "#true, do that. Otherwise, do something else.\""
   ]
  },
  {
   "cell_type": "code",
   "execution_count": 28,
   "id": "a5c875c1",
   "metadata": {},
   "outputs": [
    {
     "name": "stdout",
     "output_type": "stream",
     "text": [
      "Han. Mitakuyapi\n"
     ]
    }
   ],
   "source": [
    "# while loop statements - blocks of code that excecute over and over again. execute as long as the while statement's condition\n",
    "## is true\n",
    "\n",
    "##in code, while statements always contain \n",
    "## the while keyword \n",
    "## a condition (an expression that evaluates to True or False)\n",
    "## a colon\n",
    "## starting on the next line, an indented block of code (called the while clause)\n",
    "\n",
    "#this is the code with an if statement\n",
    "spam = 0 \n",
    "if spam < 5:\n",
    "    print('Han. Mitakuyapi')\n",
    "    spam == spam + 1\n",
    "    "
   ]
  },
  {
   "cell_type": "code",
   "execution_count": 29,
   "id": "8da89871",
   "metadata": {},
   "outputs": [
    {
     "name": "stdout",
     "output_type": "stream",
     "text": [
      "Han Mitakuyapi\n",
      "Han Mitakuyapi\n",
      "Han Mitakuyapi\n",
      "Han Mitakuyapi\n",
      "Han Mitakuyapi\n"
     ]
    }
   ],
   "source": [
    "#this is the code with the while statement \n",
    "\n",
    "spam = 0 \n",
    "while spam < 5:\n",
    "    print('Han Mitakuyapi')\n",
    "    spam = spam +1"
   ]
  },
  {
   "cell_type": "code",
   "execution_count": null,
   "id": "beac0266",
   "metadata": {},
   "outputs": [],
   "source": []
  }
 ],
 "metadata": {
  "kernelspec": {
   "display_name": "Python 3 (ipykernel)",
   "language": "python",
   "name": "python3"
  },
  "language_info": {
   "codemirror_mode": {
    "name": "ipython",
    "version": 3
   },
   "file_extension": ".py",
   "mimetype": "text/x-python",
   "name": "python",
   "nbconvert_exporter": "python",
   "pygments_lexer": "ipython3",
   "version": "3.11.5"
  }
 },
 "nbformat": 4,
 "nbformat_minor": 5
}
